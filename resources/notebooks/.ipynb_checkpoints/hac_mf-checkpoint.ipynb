{
 "cells": [
  {
   "cell_type": "code",
   "execution_count": 1,
   "id": "0e7ebe5e-917b-4754-bc65-e3aac90d1835",
   "metadata": {},
   "outputs": [
    {
     "ename": "FileNotFoundError",
     "evalue": "[Errno 2] No such file or directory: 'resources/formulae/'",
     "output_type": "error",
     "traceback": [
      "\u001b[0;31m---------------------------------------------------------------------------\u001b[0m",
      "\u001b[0;31mFileNotFoundError\u001b[0m                         Traceback (most recent call last)",
      "Input \u001b[0;32mIn [1]\u001b[0m, in \u001b[0;36m<cell line: 6>\u001b[0;34m()\u001b[0m\n\u001b[1;32m      3\u001b[0m directory \u001b[38;5;241m=\u001b[39m \u001b[38;5;124m\"\u001b[39m\u001b[38;5;124mresources/formulae/\u001b[39m\u001b[38;5;124m\"\u001b[39m\n\u001b[1;32m      5\u001b[0m mfCounts \u001b[38;5;241m=\u001b[39m []\n\u001b[0;32m----> 6\u001b[0m \u001b[38;5;28;01mfor\u001b[39;00m file \u001b[38;5;129;01min\u001b[39;00m \u001b[43mos\u001b[49m\u001b[38;5;241;43m.\u001b[39;49m\u001b[43mlistdir\u001b[49m\u001b[43m(\u001b[49m\u001b[43mdirectory\u001b[49m\u001b[43m)\u001b[49m:\n\u001b[1;32m      7\u001b[0m     filename \u001b[38;5;241m=\u001b[39m os\u001b[38;5;241m.\u001b[39mfsdecode(file)\n\u001b[1;32m      8\u001b[0m     \u001b[38;5;28;01mif\u001b[39;00m filename\u001b[38;5;241m.\u001b[39mendswith(\u001b[38;5;124m\"\u001b[39m\u001b[38;5;124m.txt\u001b[39m\u001b[38;5;124m\"\u001b[39m): \n",
      "\u001b[0;31mFileNotFoundError\u001b[0m: [Errno 2] No such file or directory: 'resources/formulae/'"
     ]
    }
   ],
   "source": [
    "import os\n",
    "\n",
    "directory = \"resources/formulae\"\n",
    "\n",
    "mfCounts = []\n",
    "for file in os.listdir(directory):\n",
    "    filename = os.fsdecode(file)\n",
    "    if filename.endswith(\".txt\"): \n",
    "        filePath = os.path.join(str(directory), filename)\n",
    "        f = open(filePath, \"r\")\n",
    "        linecount = len(f.readlines())\n",
    "        mfCounts.append([str(filename).replace(\".txt\", \"\") ,str(linecount)])\n",
    "        continue\n",
    "    else:\n",
    "        continue\n",
    "\n",
    "import csv \n",
    "\n",
    "header = ['HA', 'formulae count']  \n",
    "outputFile = \"resources/formulae/mfCounts.csv\"\n",
    "\n",
    "with open(outputFile, 'w') as f: \n",
    "    write = csv.writer(f) \n",
    "    write.writerow(header) \n",
    "    write.writerows(mfCounts)\n",
    "    \n",
    "    \n",
    "import matplotlib.pyplot as plt\n",
    "import pandas as pd\n",
    "\n",
    "data = pd.read_csv(outputFile)\n",
    "data.sort_values([\"HA\"], axis=0, ascending=[False], inplace=True)\n",
    "  \n",
    "df = pd.DataFrame(data)\n",
    "\n",
    "X = list(df.iloc[:, 0])\n",
    "Y = list(df.iloc[:, 1])\n",
    "  \n",
    "import numpy as np\n",
    "\n",
    "fig, ax = plt.subplots()    \n",
    "width = 0.70 # the width of the bars \n",
    "ind = np.arange(len(Y))  # the x locations for the groups\n",
    "\n",
    "for i, v in enumerate(Y):\n",
    "    ax.text(v, i, str(v), color='black', fontweight='light', fontsize='large')\n",
    "    \n",
    "ax.barh(ind, Y, width, color=(0.2, 0.4, 0.6, 0.6))\n",
    "ax.set_yticks(ind+width/2)\n",
    "ax.set_yticklabels(X, minor=False)\n",
    "\n",
    "plt.title('HA vs MF')\n",
    "plt.xlabel('Molecular Formulae')\n",
    "plt.ylabel('HA Count')      \n",
    "plt.savefig(os.path.join('test.svg'), dpi=300, format='svg', bbox_inches='tight') # use format='svg' or 'pdf' for vectorial pictures\n",
    "\n",
    "# plt.show()"
   ]
  }
 ],
 "metadata": {
  "kernelspec": {
   "display_name": "Python 3 (ipykernel)",
   "language": "python",
   "name": "python3"
  },
  "language_info": {
   "codemirror_mode": {
    "name": "ipython",
    "version": 3
   },
   "file_extension": ".py",
   "mimetype": "text/x-python",
   "name": "python",
   "nbconvert_exporter": "python",
   "pygments_lexer": "ipython3",
   "version": "3.9.12"
  }
 },
 "nbformat": 4,
 "nbformat_minor": 5
}
